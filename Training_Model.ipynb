{
 "cells": [
  {
   "cell_type": "code",
   "execution_count": 1,
   "metadata": {
    "id": "5XuFIX6dlYdx"
   },
   "outputs": [],
   "source": [
    "import string\n",
    "import re\n",
    "import numpy as np\n",
    "from numpy import array, argmax, random, take\n",
    "import pandas as pd\n",
    "from keras.models import Sequential\n",
    "from keras.layers import Dense, LSTM, Embedding, Bidirectional, RepeatVector, TimeDistributed\n",
    "from keras.preprocessing.text import Tokenizer\n",
    "from keras.callbacks import ModelCheckpoint\n",
    "#from keras.preprocessing.sequence import pad_sequences\n",
    "from keras.models import load_model\n",
    "from keras import optimizers\n",
    "from tensorflow.keras import optimizers\n",
    "import matplotlib.pyplot as plt\n",
    "#% matplotlib inline\n",
    "pd.set_option('display.max_colwidth', 200)"
   ]
  },
  {
   "cell_type": "code",
   "execution_count": 2,
   "metadata": {
    "id": "hPtWGxzfBC-4"
   },
   "outputs": [],
   "source": [
    "import tensorflow.keras.preprocessing.sequence as tkps\n",
    "\n",
    "# Then you can use pad_sequences like this:\n",
    "sequences = tkps.pad_sequences\n"
   ]
  },
  {
   "cell_type": "markdown",
   "metadata": {
    "id": "-8pPGsCGTULK"
   },
   "source": [
    "# Defining the functions which will enable us to read the text file"
   ]
  },
  {
   "cell_type": "code",
   "execution_count": 3,
   "metadata": {
    "id": "K7i9nHAvpvZC"
   },
   "outputs": [],
   "source": [
    "def read_text(filename):\n",
    "    # open the file\n",
    "    file = open(filename, mode='rt', encoding='utf-8')\n",
    "    # read all text\n",
    "    text = file.read()\n",
    "    file.close()\n",
    "    return text"
   ]
  },
  {
   "cell_type": "code",
   "execution_count": 4,
   "metadata": {
    "id": "ZF7xjbAhqq9t"
   },
   "outputs": [],
   "source": [
    "def to_lines(text):\n",
    "    sents = text.strip().split('\\n')\n",
    "    sents = [i.split('\\t') for i in sents]\n",
    "    return sents"
   ]
  },
  {
   "cell_type": "code",
   "execution_count": 5,
   "metadata": {
    "id": "g87UMr63s1Hj"
   },
   "outputs": [],
   "source": [
    "data = read_text(\"C:/Users/91790/Downloads/hin-eng/hin.txt\")\n",
    "hind_eng = to_lines(data)\n",
    "hind_eng = array(hind_eng)"
   ]
  },
  {
   "cell_type": "code",
   "execution_count": 6,
   "metadata": {
    "id": "NlbaEe56BC--",
    "outputId": "88dd01e7-2b15-47ce-f9bc-ef83f55f0427"
   },
   "outputs": [
    {
     "name": "stdout",
     "output_type": "stream",
     "text": [
      "430232\n"
     ]
    }
   ],
   "source": [
    "print(len(data))"
   ]
  },
  {
   "cell_type": "code",
   "execution_count": 7,
   "metadata": {
    "id": "YegHoI20BC-_",
    "outputId": "1eaf0522-6757-4a78-dab7-982fb9916c8d"
   },
   "outputs": [
    {
     "name": "stdout",
     "output_type": "stream",
     "text": [
      "2979\n"
     ]
    }
   ],
   "source": [
    "print(len(hind_eng))"
   ]
  },
  {
   "cell_type": "code",
   "execution_count": 8,
   "metadata": {
    "colab": {
     "base_uri": "https://localhost:8080/"
    },
    "id": "msO6_EIcTULN",
    "outputId": "f37b536a-55a8-4686-db06-3b27528257ce"
   },
   "outputs": [
    {
     "data": {
      "text/plain": [
       "array([['Wow!', 'वाह!',\n",
       "        'CC-BY 2.0 (France) Attribution: tatoeba.org #52027 (Zifre) & #6179147 (fastrizwaan)'],\n",
       "       ['Duck!', 'झुको!',\n",
       "        'CC-BY 2.0 (France) Attribution: tatoeba.org #280158 (CM) & #6179041 (fastrizwaan)'],\n",
       "       ['Duck!', 'बतख़!',\n",
       "        'CC-BY 2.0 (France) Attribution: tatoeba.org #280158 (CM) & #6179042 (fastrizwaan)'],\n",
       "       ...,\n",
       "       ['Democracy is the worst form of government, except all the others that have been tried.',\n",
       "        'लोकतंत्र सरकार का सबसे घिनौना रूप है, अगर बाकी सारी तरह की सरकारों को अंदेखा किया जाए तो।',\n",
       "        'CC-BY 2.0 (France) Attribution: tatoeba.org #1550 (Zifre) & #480226 (minshirui)'],\n",
       "       ['If my boy had not been killed in the traffic accident, he would be a college student now.',\n",
       "        'अगर मेरा बेटा ट्रेफ़िक हादसे में नहीं मारा गया होता, तो वह अभी कॉलेज जा रहा होता।',\n",
       "        'CC-BY 2.0 (France) Attribution: tatoeba.org #399492 (blay_paul) & #515450 (minshirui)'],\n",
       "       [\"When I was a kid, touching bugs didn't bother me a bit. Now I can hardly stand looking at pictures of them.\",\n",
       "        'जब मैं बच्चा था, मुझे कीड़ों को छूने से कोई परेशानी नहीं होती थी, पर अब मैं उनकी तस्वीरें देखना भी बर्दाश्त नहीं कर सकता।',\n",
       "        'CC-BY 2.0 (France) Attribution: tatoeba.org #272157 (CM) & #485964 (minshirui)']],\n",
       "      dtype='<U121')"
      ]
     },
     "execution_count": 8,
     "metadata": {},
     "output_type": "execute_result"
    }
   ],
   "source": [
    "hind_eng"
   ]
  },
  {
   "cell_type": "markdown",
   "metadata": {
    "id": "HzLSOr2yTULO"
   },
   "source": [
    "# Taking 2979 sentence pairs for training"
   ]
  },
  {
   "cell_type": "code",
   "execution_count": 9,
   "metadata": {
    "id": "-vrnMJvPtB51"
   },
   "outputs": [],
   "source": [
    "hind_eng = hind_eng[:2979,:]"
   ]
  },
  {
   "cell_type": "code",
   "execution_count": 10,
   "metadata": {
    "colab": {
     "base_uri": "https://localhost:8080/"
    },
    "id": "xTKSZKhEzZ-v",
    "outputId": "1d4234f0-5294-4889-9e9e-5a70354481fc"
   },
   "outputs": [
    {
     "data": {
      "text/plain": [
       "array([['Wow!', 'वाह!',\n",
       "        'CC-BY 2.0 (France) Attribution: tatoeba.org #52027 (Zifre) & #6179147 (fastrizwaan)'],\n",
       "       ['Duck!', 'झुको!',\n",
       "        'CC-BY 2.0 (France) Attribution: tatoeba.org #280158 (CM) & #6179041 (fastrizwaan)'],\n",
       "       ['Duck!', 'बतख़!',\n",
       "        'CC-BY 2.0 (France) Attribution: tatoeba.org #280158 (CM) & #6179042 (fastrizwaan)'],\n",
       "       ...,\n",
       "       ['Democracy is the worst form of government, except all the others that have been tried.',\n",
       "        'लोकतंत्र सरकार का सबसे घिनौना रूप है, अगर बाकी सारी तरह की सरकारों को अंदेखा किया जाए तो।',\n",
       "        'CC-BY 2.0 (France) Attribution: tatoeba.org #1550 (Zifre) & #480226 (minshirui)'],\n",
       "       ['If my boy had not been killed in the traffic accident, he would be a college student now.',\n",
       "        'अगर मेरा बेटा ट्रेफ़िक हादसे में नहीं मारा गया होता, तो वह अभी कॉलेज जा रहा होता।',\n",
       "        'CC-BY 2.0 (France) Attribution: tatoeba.org #399492 (blay_paul) & #515450 (minshirui)'],\n",
       "       [\"When I was a kid, touching bugs didn't bother me a bit. Now I can hardly stand looking at pictures of them.\",\n",
       "        'जब मैं बच्चा था, मुझे कीड़ों को छूने से कोई परेशानी नहीं होती थी, पर अब मैं उनकी तस्वीरें देखना भी बर्दाश्त नहीं कर सकता।',\n",
       "        'CC-BY 2.0 (France) Attribution: tatoeba.org #272157 (CM) & #485964 (minshirui)']],\n",
       "      dtype='<U121')"
      ]
     },
     "execution_count": 10,
     "metadata": {},
     "output_type": "execute_result"
    }
   ],
   "source": [
    "hind_eng"
   ]
  },
  {
   "cell_type": "markdown",
   "metadata": {
    "id": "iMluFmTcTULQ"
   },
   "source": [
    "# We'll now get rid of all the punctuations in both the english and Hindi phrases by using maketrans"
   ]
  },
  {
   "cell_type": "code",
   "execution_count": 11,
   "metadata": {
    "id": "eMktcIGOtYwq"
   },
   "outputs": [],
   "source": [
    "hind_eng[:,0] = [s.translate(str.maketrans('', '', string.punctuation)) for s in hind_eng[:,0]]\n",
    "hind_eng[:,1] = [s.translate(str.maketrans('', '', string.punctuation)) for s in hind_eng[:,1]]"
   ]
  },
  {
   "cell_type": "code",
   "execution_count": 12,
   "metadata": {
    "colab": {
     "base_uri": "https://localhost:8080/"
    },
    "id": "RSPpNCxMTULR",
    "outputId": "8642e125-8252-4b87-e85d-7caf5ee5022b"
   },
   "outputs": [
    {
     "data": {
      "text/plain": [
       "array([['Wow', 'वाह',\n",
       "        'CC-BY 2.0 (France) Attribution: tatoeba.org #52027 (Zifre) & #6179147 (fastrizwaan)'],\n",
       "       ['Duck', 'झुको',\n",
       "        'CC-BY 2.0 (France) Attribution: tatoeba.org #280158 (CM) & #6179041 (fastrizwaan)'],\n",
       "       ['Duck', 'बतख़',\n",
       "        'CC-BY 2.0 (France) Attribution: tatoeba.org #280158 (CM) & #6179042 (fastrizwaan)'],\n",
       "       ...,\n",
       "       ['Democracy is the worst form of government except all the others that have been tried',\n",
       "        'लोकतंत्र सरकार का सबसे घिनौना रूप है अगर बाकी सारी तरह की सरकारों को अंदेखा किया जाए तो।',\n",
       "        'CC-BY 2.0 (France) Attribution: tatoeba.org #1550 (Zifre) & #480226 (minshirui)'],\n",
       "       ['If my boy had not been killed in the traffic accident he would be a college student now',\n",
       "        'अगर मेरा बेटा ट्रेफ़िक हादसे में नहीं मारा गया होता तो वह अभी कॉलेज जा रहा होता।',\n",
       "        'CC-BY 2.0 (France) Attribution: tatoeba.org #399492 (blay_paul) & #515450 (minshirui)'],\n",
       "       ['When I was a kid touching bugs didnt bother me a bit Now I can hardly stand looking at pictures of them',\n",
       "        'जब मैं बच्चा था मुझे कीड़ों को छूने से कोई परेशानी नहीं होती थी पर अब मैं उनकी तस्वीरें देखना भी बर्दाश्त नहीं कर सकता।',\n",
       "        'CC-BY 2.0 (France) Attribution: tatoeba.org #272157 (CM) & #485964 (minshirui)']],\n",
       "      dtype='<U121')"
      ]
     },
     "execution_count": 12,
     "metadata": {},
     "output_type": "execute_result"
    }
   ],
   "source": [
    "hind_eng"
   ]
  },
  {
   "cell_type": "markdown",
   "metadata": {
    "id": "olFg_nG0TULR"
   },
   "source": [
    "# Converting the text to lower case"
   ]
  },
  {
   "cell_type": "code",
   "execution_count": 13,
   "metadata": {
    "id": "VW8UC7vI2omK"
   },
   "outputs": [],
   "source": [
    "for i in range(len(hind_eng)):\n",
    "    hind_eng[i,0] = hind_eng[i,0].lower()\n",
    "\n",
    "    hind_eng[i,1] = hind_eng[i,1].lower()"
   ]
  },
  {
   "cell_type": "code",
   "execution_count": 14,
   "metadata": {
    "id": "A-3pfgzH3Ekz"
   },
   "outputs": [],
   "source": [
    "eng_l = []\n",
    "hind_l = []\n",
    "\n",
    "# populate the language lists with sentence lengths\n",
    "for i in hind_eng[:,0]:\n",
    "    eng_l.append(len(i.split()))\n",
    "\n",
    "for i in hind_eng[:,1]:\n",
    "    hind_l.append(len(i.split()))"
   ]
  },
  {
   "cell_type": "code",
   "execution_count": 15,
   "metadata": {
    "id": "Y8zxWKQWTULS"
   },
   "outputs": [],
   "source": [
    "length_df = pd.DataFrame({'eng':eng_l, 'hind':hind_l})"
   ]
  },
  {
   "cell_type": "code",
   "execution_count": 16,
   "metadata": {
    "colab": {
     "base_uri": "https://localhost:8080/",
     "height": 281
    },
    "id": "lIvjdk37TULT",
    "outputId": "7464beb0-61e3-4865-e897-8e5209f00bd1"
   },
   "outputs": [
    {
     "data": {
      "image/png": "[encoded data removed]",
      "text/plain": [
       "<Figure size 640x480 with 2 Axes>"
      ]
     },
     "metadata": {},
     "output_type": "display_data"
    }
   ],
   "source": [
    "length_df.hist(bins = 30)\n",
    "plt.show()\n",
    "\n",
    "#The plot shows frequency of occurence v/s length of phrase for both languages"
   ]
  },
  {
   "cell_type": "code",
   "execution_count": 17,
   "metadata": {
    "colab": {
     "base_uri": "https://localhost:8080/"
    },
    "id": "hFpL5dFzTULT",
    "outputId": "ac27c2a6-e8a9-4d61-94b7-f84182707b69"
   },
   "outputs": [
    {
     "data": {
      "text/plain": [
       "6     553\n",
       "5     546\n",
       "4     438\n",
       "7     407\n",
       "8     305\n",
       "9     182\n",
       "3     179\n",
       "10    125\n",
       "2      69\n",
       "11     67\n",
       "12     42\n",
       "1      28\n",
       "14     15\n",
       "13     13\n",
       "15      6\n",
       "16      1\n",
       "17      1\n",
       "18      1\n",
       "22      1\n",
       "Name: eng, dtype: int64"
      ]
     },
     "execution_count": 17,
     "metadata": {},
     "output_type": "execute_result"
    }
   ],
   "source": [
    "length_df['eng'].value_counts()"
   ]
  },
  {
   "cell_type": "markdown",
   "metadata": {
    "id": "kkgSl9GmTULT"
   },
   "source": [
    "We can see that the maximum length sequence in english is 22"
   ]
  },
  {
   "cell_type": "code",
   "execution_count": 18,
   "metadata": {
    "colab": {
     "base_uri": "https://localhost:8080/"
    },
    "id": "90ZJkDRtTULT",
    "outputId": "04dfa721-9366-4375-f007-4294051c3427"
   },
   "outputs": [
    {
     "data": {
      "text/plain": [
       "6     501\n",
       "5     491\n",
       "7     431\n",
       "8     376\n",
       "4     322\n",
       "9     224\n",
       "10    154\n",
       "3     136\n",
       "11    109\n",
       "12     77\n",
       "2      42\n",
       "13     37\n",
       "1      23\n",
       "14     19\n",
       "15     12\n",
       "16     11\n",
       "18      6\n",
       "17      3\n",
       "19      3\n",
       "21      1\n",
       "25      1\n",
       "Name: hind, dtype: int64"
      ]
     },
     "execution_count": 18,
     "metadata": {},
     "output_type": "execute_result"
    }
   ],
   "source": [
    "length_df['hind'].value_counts()"
   ]
  },
  {
   "cell_type": "markdown",
   "metadata": {
    "id": "C9Zn-zRHTULU"
   },
   "source": [
    "We can see that the maximum length sequence in Hindi is 25"
   ]
  },
  {
   "cell_type": "code",
   "execution_count": 19,
   "metadata": {
    "colab": {
     "base_uri": "https://localhost:8080/"
    },
    "id": "qrlSgS0U49Xd",
    "outputId": "68a695a7-d30c-4a83-f5bc-eb9e99d6f952"
   },
   "outputs": [
    {
     "name": "stdout",
     "output_type": "stream",
     "text": [
      "English Vocabulary Size: 2404\n",
      "French Vocabulary Size: 3061\n"
     ]
    }
   ],
   "source": [
    "#Tokenization is the process of converting each word in the vocabulary into an integer based on frequency of occurence\n",
    "\n",
    "def tokenization(lines):\n",
    "    tokenizer = Tokenizer()\n",
    "    tokenizer.fit_on_texts(lines)\n",
    "    return tokenizer\n",
    "\n",
    "eng_tokenizer = tokenization(hind_eng[:, 0])\n",
    "eng_vocab_size = len(eng_tokenizer.word_index) + 1\n",
    "\n",
    "eng_length = 22 # MAx Length of English\n",
    "print('English Vocabulary Size: %d' % eng_vocab_size)\n",
    "\n",
    "hind_tokenizer = tokenization(hind_eng[:, 1])\n",
    "hind_vocab_size = len(hind_tokenizer.word_index) + 1\n",
    "\n",
    "hind_length = 25  # Max Length of Hindi\n",
    "print('French Vocabulary Size: %d' % hind_vocab_size)\n"
   ]
  },
  {
   "cell_type": "code",
   "execution_count": null,
   "metadata": {
    "id": "qv0n4iuJBC_D"
   },
   "outputs": [],
   "source": []
  },
  {
   "cell_type": "code",
   "execution_count": null,
   "metadata": {
    "id": "n41GOu__BC_D"
   },
   "outputs": [],
   "source": []
  },
  {
   "cell_type": "code",
   "execution_count": 20,
   "metadata": {
    "id": "Dd72_0ap58QJ"
   },
   "outputs": [],
   "source": [
    "# encode and pad sequences\n",
    "#encoding means replacing each word with its corresponding number\n",
    "#Padding essentially means adding zeros to make the length of every sequence equal\n",
    "def encode_sequences(tokenizer, length, lines):\n",
    "    # integer encode sequences\n",
    "    seq = tokenizer.texts_to_sequences(lines)\n",
    "    # pad sequences with 0 values\n",
    "    seq = pad_sequences(seq, maxlen=length, padding='post')\n",
    "    return seq"
   ]
  },
  {
   "cell_type": "code",
   "execution_count": 21,
   "metadata": {
    "id": "l1MScn7hBC_E"
   },
   "outputs": [],
   "source": [
    "from keras.utils import pad_sequences"
   ]
  },
  {
   "cell_type": "code",
   "execution_count": 22,
   "metadata": {
    "id": "0FlH2zp368fs"
   },
   "outputs": [],
   "source": [
    "from sklearn.model_selection import train_test_split\n",
    "train, test = train_test_split(hind_eng, test_size=0.2, random_state = 12)"
   ]
  },
  {
   "cell_type": "code",
   "execution_count": 23,
   "metadata": {
    "id": "FG5PLrxK7D-R"
   },
   "outputs": [],
   "source": [
    "trainX = encode_sequences(hind_tokenizer, hind_length, train[:, 1])\n",
    "trainY = encode_sequences(eng_tokenizer, eng_length, train[:, 0])\n",
    "\n",
    "testX = encode_sequences(hind_tokenizer, hind_length, test[:, 1])\n",
    "testY = encode_sequences(eng_tokenizer, eng_length, test[:, 0])"
   ]
  },
  {
   "cell_type": "markdown",
   "metadata": {
    "id": "bZ5VnWY3TULW"
   },
   "source": [
    "Now we'll build the Sequential model.\n",
    "The first layer is the embedding layer which projects each token in an N dimensional vector space\n",
    "LSTM is the artificial recurrent neural net architecture.\n",
    "It can not only proces past data but take feedback from future data as well.\n",
    "\n",
    "In the second LSTM layer, we have set return sequences as True becuase we need outputs of all hidden units and not just the last one."
   ]
  },
  {
   "cell_type": "code",
   "execution_count": null,
   "metadata": {
    "colab": {
     "base_uri": "https://localhost:8080/"
    },
    "id": "7Nn_KFx676b9",
    "outputId": "86691690-1af5-42bc-939f-fde85b7072aa"
   },
   "outputs": [
    {
     "name": "stderr",
     "output_type": "stream",
     "text": [
      "WARNING:absl:`lr` is deprecated, please use `learning_rate` instead, or use the legacy optimizer, e.g.,tf.keras.optimizers.legacy.RMSprop.\n"
     ]
    }
   ],
   "source": [
    "def build_model(in_vocab, out_vocab, in_timesteps, out_timesteps, units):\n",
    "    model = Sequential()\n",
    "    model.add(Embedding(in_vocab, units, input_length=in_timesteps, mask_zero=True))\n",
    "    model.add(LSTM(units))\n",
    "    model.add(RepeatVector(out_timesteps))\n",
    "    model.add(LSTM(units, return_sequences=True))\n",
    "    model.add(Dense(out_vocab, activation='softmax'))\n",
    "    return model\n",
    "\n",
    "model = build_model(hind_vocab_size, eng_vocab_size, hind_length, eng_length, 512)\n",
    "rms = optimizers.RMSprop(lr=0.001)\n",
    "model.compile(optimizer=rms, loss='sparse_categorical_crossentropy')"
   ]
  },
  {
   "cell_type": "code",
   "execution_count": null,
   "metadata": {
    "colab": {
     "base_uri": "https://localhost:8080/"
    },
    "id": "IUZiMYI7TULW",
    "outputId": "35269490-839b-4a65-a44d-241a85adfb01"
   },
   "outputs": [
    {
     "name": "stdout",
     "output_type": "stream",
     "text": [
      "Model: \"sequential_4\"\n",
      "_________________________________________________________________\n",
      " Layer (type)                Output Shape              Param #   \n",
      "=================================================================\n",
      " embedding_4 (Embedding)     (None, 25, 512)           1567232   \n",
      "                                                                 \n",
      " lstm_8 (LSTM)               (None, 512)               2099200   \n",
      "                                                                 \n",
      " repeat_vector_4 (RepeatVect  (None, 22, 512)          0         \n",
      " or)                                                             \n",
      "                                                                 \n",
      " lstm_9 (LSTM)               (None, 22, 512)           2099200   \n",
      "                                                                 \n",
      " dense_4 (Dense)             (None, 22, 2404)          1233252   \n",
      "                                                                 \n",
      "=================================================================\n",
      "Total params: 6,998,884\n",
      "Trainable params: 6,998,884\n",
      "Non-trainable params: 0\n",
      "_________________________________________________________________\n"
     ]
    }
   ],
   "source": [
    "model.summary()"
   ]
  },
  {
   "cell_type": "code",
   "execution_count": null,
   "metadata": {
    "colab": {
     "base_uri": "https://localhost:8080/"
    },
    "id": "6S3pwzWP9Pus",
    "outputId": "6a08d16a-9909-4375-8924-d3b9110b2916"
   },
   "outputs": [
    {
     "name": "stdout",
     "output_type": "stream",
     "text": [
      "Epoch 1/30\n",
      "4/4 [==============================] - ETA: 0s - loss: 7.6983\n",
      "Epoch 1: val_loss improved from inf to 6.20108, saving model to model.h1.Eng_Hind\n"
     ]
    },
    {
     "name": "stderr",
     "output_type": "stream",
     "text": [
      "WARNING:absl:Found untraced functions such as _update_step_xla, lstm_cell_12_layer_call_fn, lstm_cell_12_layer_call_and_return_conditional_losses, lstm_cell_13_layer_call_fn, lstm_cell_13_layer_call_and_return_conditional_losses while saving (showing 5 of 5). These functions will not be directly callable after loading.\n"
     ]
    },
    {
     "name": "stdout",
     "output_type": "stream",
     "text": [
      "INFO:tensorflow:Assets written to: model.h1.Eng_Hind\\assets\n"
     ]
    },
    {
     "name": "stderr",
     "output_type": "stream",
     "text": [
      "INFO:tensorflow:Assets written to: model.h1.Eng_Hind\\assets\n"
     ]
    },
    {
     "name": "stdout",
     "output_type": "stream",
     "text": [
      "4/4 [==============================] - 64s 15s/step - loss: 7.6983 - val_loss: 6.2011\n",
      "Epoch 2/30\n",
      "4/4 [==============================] - ETA: 0s - loss: 3.5199\n",
      "Epoch 2: val_loss improved from 6.20108 to 2.42796, saving model to model.h1.Eng_Hind\n"
     ]
    },
    {
     "name": "stderr",
     "output_type": "stream",
     "text": [
      "WARNING:absl:Found untraced functions such as _update_step_xla, lstm_cell_12_layer_call_fn, lstm_cell_12_layer_call_and_return_conditional_losses, lstm_cell_13_layer_call_fn, lstm_cell_13_layer_call_and_return_conditional_losses while saving (showing 5 of 5). These functions will not be directly callable after loading.\n"
     ]
    },
    {
     "name": "stdout",
     "output_type": "stream",
     "text": [
      "INFO:tensorflow:Assets written to: model.h1.Eng_Hind\\assets\n"
     ]
    },
    {
     "name": "stderr",
     "output_type": "stream",
     "text": [
      "INFO:tensorflow:Assets written to: model.h1.Eng_Hind\\assets\n"
     ]
    },
    {
     "name": "stdout",
     "output_type": "stream",
     "text": [
      "4/4 [==============================] - 22s 7s/step - loss: 3.5199 - val_loss: 2.4280\n",
      "Epoch 3/30\n",
      "4/4 [==============================] - ETA: 0s - loss: 2.3854\n",
      "Epoch 3: val_loss improved from 2.42796 to 2.33402, saving model to model.h1.Eng_Hind\n"
     ]
    },
    {
     "name": "stderr",
     "output_type": "stream",
     "text": [
      "WARNING:absl:Found untraced functions such as _update_step_xla, lstm_cell_12_layer_call_fn, lstm_cell_12_layer_call_and_return_conditional_losses, lstm_cell_13_layer_call_fn, lstm_cell_13_layer_call_and_return_conditional_losses while saving (showing 5 of 5). These functions will not be directly callable after loading.\n"
     ]
    },
    {
     "name": "stdout",
     "output_type": "stream",
     "text": [
      "INFO:tensorflow:Assets written to: model.h1.Eng_Hind\\assets\n"
     ]
    },
    {
     "name": "stderr",
     "output_type": "stream",
     "text": [
      "INFO:tensorflow:Assets written to: model.h1.Eng_Hind\\assets\n"
     ]
    },
    {
     "name": "stdout",
     "output_type": "stream",
     "text": [
      "4/4 [==============================] - 29s 8s/step - loss: 2.3854 - val_loss: 2.3340\n",
      "Epoch 4/30\n",
      "4/4 [==============================] - ETA: 0s - loss: 2.3046\n",
      "Epoch 4: val_loss improved from 2.33402 to 2.27752, saving model to model.h1.Eng_Hind\n"
     ]
    },
    {
     "name": "stderr",
     "output_type": "stream",
     "text": [
      "WARNING:absl:Found untraced functions such as _update_step_xla, lstm_cell_12_layer_call_fn, lstm_cell_12_layer_call_and_return_conditional_losses, lstm_cell_13_layer_call_fn, lstm_cell_13_layer_call_and_return_conditional_losses while saving (showing 5 of 5). These functions will not be directly callable after loading.\n"
     ]
    },
    {
     "name": "stdout",
     "output_type": "stream",
     "text": [
      "INFO:tensorflow:Assets written to: model.h1.Eng_Hind\\assets\n"
     ]
    },
    {
     "name": "stderr",
     "output_type": "stream",
     "text": [
      "INFO:tensorflow:Assets written to: model.h1.Eng_Hind\\assets\n"
     ]
    },
    {
     "name": "stdout",
     "output_type": "stream",
     "text": [
      "4/4 [==============================] - 38s 11s/step - loss: 2.3046 - val_loss: 2.2775\n",
      "Epoch 5/30\n",
      "4/4 [==============================] - ETA: 0s - loss: 2.2591\n",
      "Epoch 5: val_loss improved from 2.27752 to 2.24772, saving model to model.h1.Eng_Hind\n"
     ]
    },
    {
     "name": "stderr",
     "output_type": "stream",
     "text": [
      "WARNING:absl:Found untraced functions such as _update_step_xla, lstm_cell_12_layer_call_fn, lstm_cell_12_layer_call_and_return_conditional_losses, lstm_cell_13_layer_call_fn, lstm_cell_13_layer_call_and_return_conditional_losses while saving (showing 5 of 5). These functions will not be directly callable after loading.\n"
     ]
    },
    {
     "name": "stdout",
     "output_type": "stream",
     "text": [
      "INFO:tensorflow:Assets written to: model.h1.Eng_Hind\\assets\n"
     ]
    },
    {
     "name": "stderr",
     "output_type": "stream",
     "text": [
      "INFO:tensorflow:Assets written to: model.h1.Eng_Hind\\assets\n"
     ]
    },
    {
     "name": "stdout",
     "output_type": "stream",
     "text": [
      "4/4 [==============================] - 36s 10s/step - loss: 2.2591 - val_loss: 2.2477\n",
      "Epoch 6/30\n",
      "4/4 [==============================] - ETA: 0s - loss: 2.2298\n",
      "Epoch 6: val_loss improved from 2.24772 to 2.23737, saving model to model.h1.Eng_Hind\n"
     ]
    },
    {
     "name": "stderr",
     "output_type": "stream",
     "text": [
      "WARNING:absl:Found untraced functions such as _update_step_xla, lstm_cell_12_layer_call_fn, lstm_cell_12_layer_call_and_return_conditional_losses, lstm_cell_13_layer_call_fn, lstm_cell_13_layer_call_and_return_conditional_losses while saving (showing 5 of 5). These functions will not be directly callable after loading.\n"
     ]
    },
    {
     "name": "stdout",
     "output_type": "stream",
     "text": [
      "INFO:tensorflow:Assets written to: model.h1.Eng_Hind\\assets\n"
     ]
    },
    {
     "name": "stderr",
     "output_type": "stream",
     "text": [
      "INFO:tensorflow:Assets written to: model.h1.Eng_Hind\\assets\n"
     ]
    },
    {
     "name": "stdout",
     "output_type": "stream",
     "text": [
      "4/4 [==============================] - 40s 11s/step - loss: 2.2298 - val_loss: 2.2374\n",
      "Epoch 7/30\n",
      "4/4 [==============================] - ETA: 0s - loss: 2.2147\n",
      "Epoch 7: val_loss improved from 2.23737 to 2.22573, saving model to model.h1.Eng_Hind\n"
     ]
    },
    {
     "name": "stderr",
     "output_type": "stream",
     "text": [
      "WARNING:absl:Found untraced functions such as _update_step_xla, lstm_cell_12_layer_call_fn, lstm_cell_12_layer_call_and_return_conditional_losses, lstm_cell_13_layer_call_fn, lstm_cell_13_layer_call_and_return_conditional_losses while saving (showing 5 of 5). These functions will not be directly callable after loading.\n"
     ]
    },
    {
     "name": "stdout",
     "output_type": "stream",
     "text": [
      "INFO:tensorflow:Assets written to: model.h1.Eng_Hind\\assets\n"
     ]
    },
    {
     "name": "stderr",
     "output_type": "stream",
     "text": [
      "INFO:tensorflow:Assets written to: model.h1.Eng_Hind\\assets\n"
     ]
    },
    {
     "name": "stdout",
     "output_type": "stream",
     "text": [
      "4/4 [==============================] - 35s 10s/step - loss: 2.2147 - val_loss: 2.2257\n",
      "Epoch 8/30\n",
      "4/4 [==============================] - ETA: 0s - loss: 2.1941\n",
      "Epoch 8: val_loss did not improve from 2.22573\n",
      "4/4 [==============================] - 26s 7s/step - loss: 2.1941 - val_loss: 2.2265\n",
      "Epoch 9/30\n",
      "4/4 [==============================] - ETA: 0s - loss: 2.1709\n",
      "Epoch 9: val_loss improved from 2.22573 to 2.14480, saving model to model.h1.Eng_Hind\n"
     ]
    },
    {
     "name": "stderr",
     "output_type": "stream",
     "text": [
      "WARNING:absl:Found untraced functions such as _update_step_xla, lstm_cell_12_layer_call_fn, lstm_cell_12_layer_call_and_return_conditional_losses, lstm_cell_13_layer_call_fn, lstm_cell_13_layer_call_and_return_conditional_losses while saving (showing 5 of 5). These functions will not be directly callable after loading.\n"
     ]
    },
    {
     "name": "stdout",
     "output_type": "stream",
     "text": [
      "INFO:tensorflow:Assets written to: model.h1.Eng_Hind\\assets\n"
     ]
    },
    {
     "name": "stderr",
     "output_type": "stream",
     "text": [
      "INFO:tensorflow:Assets written to: model.h1.Eng_Hind\\assets\n"
     ]
    },
    {
     "name": "stdout",
     "output_type": "stream",
     "text": [
      "4/4 [==============================] - 36s 10s/step - loss: 2.1709 - val_loss: 2.1448\n",
      "Epoch 10/30\n",
      "4/4 [==============================] - ETA: 0s - loss: 2.1159\n",
      "Epoch 10: val_loss did not improve from 2.14480\n",
      "4/4 [==============================] - 26s 7s/step - loss: 2.1159 - val_loss: 2.2569\n",
      "Epoch 11/30\n",
      "4/4 [==============================] - ETA: 0s - loss: 2.1290\n",
      "Epoch 11: val_loss did not improve from 2.14480\n",
      "4/4 [==============================] - 26s 6s/step - loss: 2.1290 - val_loss: 2.1484\n",
      "Epoch 12/30\n",
      "4/4 [==============================] - ETA: 0s - loss: 2.1767\n",
      "Epoch 12: val_loss improved from 2.14480 to 2.10064, saving model to model.h1.Eng_Hind\n"
     ]
    },
    {
     "name": "stderr",
     "output_type": "stream",
     "text": [
      "WARNING:absl:Found untraced functions such as _update_step_xla, lstm_cell_12_layer_call_fn, lstm_cell_12_layer_call_and_return_conditional_losses, lstm_cell_13_layer_call_fn, lstm_cell_13_layer_call_and_return_conditional_losses while saving (showing 5 of 5). These functions will not be directly callable after loading.\n"
     ]
    },
    {
     "name": "stdout",
     "output_type": "stream",
     "text": [
      "INFO:tensorflow:Assets written to: model.h1.Eng_Hind\\assets\n"
     ]
    },
    {
     "name": "stderr",
     "output_type": "stream",
     "text": [
      "INFO:tensorflow:Assets written to: model.h1.Eng_Hind\\assets\n"
     ]
    },
    {
     "name": "stdout",
     "output_type": "stream",
     "text": [
      "4/4 [==============================] - 35s 10s/step - loss: 2.1767 - val_loss: 2.1006\n",
      "Epoch 13/30\n",
      "4/4 [==============================] - ETA: 0s - loss: 2.0588\n",
      "Epoch 13: val_loss improved from 2.10064 to 2.06247, saving model to model.h1.Eng_Hind\n"
     ]
    },
    {
     "name": "stderr",
     "output_type": "stream",
     "text": [
      "WARNING:absl:Found untraced functions such as _update_step_xla, lstm_cell_12_layer_call_fn, lstm_cell_12_layer_call_and_return_conditional_losses, lstm_cell_13_layer_call_fn, lstm_cell_13_layer_call_and_return_conditional_losses while saving (showing 5 of 5). These functions will not be directly callable after loading.\n"
     ]
    },
    {
     "name": "stdout",
     "output_type": "stream",
     "text": [
      "INFO:tensorflow:Assets written to: model.h1.Eng_Hind\\assets\n"
     ]
    },
    {
     "name": "stderr",
     "output_type": "stream",
     "text": [
      "INFO:tensorflow:Assets written to: model.h1.Eng_Hind\\assets\n"
     ]
    },
    {
     "name": "stdout",
     "output_type": "stream",
     "text": [
      "4/4 [==============================] - 40s 11s/step - loss: 2.0588 - val_loss: 2.0625\n",
      "Epoch 14/30\n",
      "4/4 [==============================] - ETA: 0s - loss: 2.1532\n",
      "Epoch 14: val_loss did not improve from 2.06247\n",
      "4/4 [==============================] - 29s 7s/step - loss: 2.1532 - val_loss: 2.0753\n",
      "Epoch 15/30\n",
      "4/4 [==============================] - ETA: 0s - loss: 2.0335\n",
      "Epoch 15: val_loss improved from 2.06247 to 2.02149, saving model to model.h1.Eng_Hind\n"
     ]
    },
    {
     "name": "stderr",
     "output_type": "stream",
     "text": [
      "WARNING:absl:Found untraced functions such as _update_step_xla, lstm_cell_12_layer_call_fn, lstm_cell_12_layer_call_and_return_conditional_losses, lstm_cell_13_layer_call_fn, lstm_cell_13_layer_call_and_return_conditional_losses while saving (showing 5 of 5). These functions will not be directly callable after loading.\n"
     ]
    },
    {
     "name": "stdout",
     "output_type": "stream",
     "text": [
      "INFO:tensorflow:Assets written to: model.h1.Eng_Hind\\assets\n"
     ]
    },
    {
     "name": "stderr",
     "output_type": "stream",
     "text": [
      "INFO:tensorflow:Assets written to: model.h1.Eng_Hind\\assets\n"
     ]
    },
    {
     "name": "stdout",
     "output_type": "stream",
     "text": [
      "4/4 [==============================] - 37s 10s/step - loss: 2.0335 - val_loss: 2.0215\n",
      "Epoch 16/30\n",
      "4/4 [==============================] - ETA: 0s - loss: 2.0264\n",
      "Epoch 16: val_loss did not improve from 2.02149\n",
      "4/4 [==============================] - 24s 6s/step - loss: 2.0264 - val_loss: 2.2416\n",
      "Epoch 17/30\n",
      "4/4 [==============================] - ETA: 0s - loss: 2.0494\n",
      "Epoch 17: val_loss improved from 2.02149 to 1.98543, saving model to model.h1.Eng_Hind\n"
     ]
    },
    {
     "name": "stderr",
     "output_type": "stream",
     "text": [
      "WARNING:absl:Found untraced functions such as _update_step_xla, lstm_cell_12_layer_call_fn, lstm_cell_12_layer_call_and_return_conditional_losses, lstm_cell_13_layer_call_fn, lstm_cell_13_layer_call_and_return_conditional_losses while saving (showing 5 of 5). These functions will not be directly callable after loading.\n"
     ]
    },
    {
     "name": "stdout",
     "output_type": "stream",
     "text": [
      "INFO:tensorflow:Assets written to: model.h1.Eng_Hind\\assets\n"
     ]
    },
    {
     "name": "stderr",
     "output_type": "stream",
     "text": [
      "INFO:tensorflow:Assets written to: model.h1.Eng_Hind\\assets\n"
     ]
    },
    {
     "name": "stdout",
     "output_type": "stream",
     "text": [
      "4/4 [==============================] - 33s 9s/step - loss: 2.0494 - val_loss: 1.9854\n",
      "Epoch 18/30\n",
      "4/4 [==============================] - ETA: 0s - loss: 2.0070\n",
      "Epoch 18: val_loss did not improve from 1.98543\n",
      "4/4 [==============================] - 23s 6s/step - loss: 2.0070 - val_loss: 1.9879\n",
      "Epoch 19/30\n",
      "4/4 [==============================] - ETA: 0s - loss: 1.9622\n",
      "Epoch 19: val_loss did not improve from 1.98543\n",
      "4/4 [==============================] - 24s 6s/step - loss: 1.9622 - val_loss: 2.0048\n",
      "Epoch 20/30\n",
      "4/4 [==============================] - ETA: 0s - loss: 2.0113\n",
      "Epoch 20: val_loss improved from 1.98543 to 1.95970, saving model to model.h1.Eng_Hind\n"
     ]
    },
    {
     "name": "stderr",
     "output_type": "stream",
     "text": [
      "WARNING:absl:Found untraced functions such as _update_step_xla, lstm_cell_12_layer_call_fn, lstm_cell_12_layer_call_and_return_conditional_losses, lstm_cell_13_layer_call_fn, lstm_cell_13_layer_call_and_return_conditional_losses while saving (showing 5 of 5). These functions will not be directly callable after loading.\n"
     ]
    },
    {
     "name": "stdout",
     "output_type": "stream",
     "text": [
      "INFO:tensorflow:Assets written to: model.h1.Eng_Hind\\assets\n"
     ]
    },
    {
     "name": "stderr",
     "output_type": "stream",
     "text": [
      "INFO:tensorflow:Assets written to: model.h1.Eng_Hind\\assets\n"
     ]
    },
    {
     "name": "stdout",
     "output_type": "stream",
     "text": [
      "4/4 [==============================] - 35s 10s/step - loss: 2.0113 - val_loss: 1.9597\n",
      "Epoch 21/30\n",
      "4/4 [==============================] - ETA: 0s - loss: 1.9998\n",
      "Epoch 21: val_loss did not improve from 1.95970\n",
      "4/4 [==============================] - 22s 6s/step - loss: 1.9998 - val_loss: 1.9638\n",
      "Epoch 22/30\n",
      "4/4 [==============================] - ETA: 0s - loss: 1.9247\n",
      "Epoch 22: val_loss did not improve from 1.95970\n",
      "4/4 [==============================] - 24s 6s/step - loss: 1.9247 - val_loss: 1.9673\n",
      "Epoch 23/30\n",
      "4/4 [==============================] - ETA: 0s - loss: 1.9827\n",
      "Epoch 23: val_loss improved from 1.95970 to 1.95697, saving model to model.h1.Eng_Hind\n"
     ]
    },
    {
     "name": "stderr",
     "output_type": "stream",
     "text": [
      "WARNING:absl:Found untraced functions such as _update_step_xla, lstm_cell_12_layer_call_fn, lstm_cell_12_layer_call_and_return_conditional_losses, lstm_cell_13_layer_call_fn, lstm_cell_13_layer_call_and_return_conditional_losses while saving (showing 5 of 5). These functions will not be directly callable after loading.\n"
     ]
    },
    {
     "name": "stdout",
     "output_type": "stream",
     "text": [
      "INFO:tensorflow:Assets written to: model.h1.Eng_Hind\\assets\n"
     ]
    },
    {
     "name": "stderr",
     "output_type": "stream",
     "text": [
      "INFO:tensorflow:Assets written to: model.h1.Eng_Hind\\assets\n"
     ]
    },
    {
     "name": "stdout",
     "output_type": "stream",
     "text": [
      "4/4 [==============================] - 34s 10s/step - loss: 1.9827 - val_loss: 1.9570\n",
      "Epoch 24/30\n",
      "4/4 [==============================] - ETA: 0s - loss: 1.9223\n",
      "Epoch 24: val_loss did not improve from 1.95697\n",
      "4/4 [==============================] - 24s 6s/step - loss: 1.9223 - val_loss: 2.0406\n",
      "Epoch 25/30\n",
      "4/4 [==============================] - ETA: 0s - loss: 1.9383\n",
      "Epoch 25: val_loss did not improve from 1.95697\n",
      "4/4 [==============================] - 28s 7s/step - loss: 1.9383 - val_loss: 2.0888\n",
      "Epoch 26/30\n",
      "4/4 [==============================] - ETA: 0s - loss: 1.9263\n",
      "Epoch 26: val_loss improved from 1.95697 to 1.91522, saving model to model.h1.Eng_Hind\n"
     ]
    },
    {
     "name": "stderr",
     "output_type": "stream",
     "text": [
      "WARNING:absl:Found untraced functions such as _update_step_xla, lstm_cell_12_layer_call_fn, lstm_cell_12_layer_call_and_return_conditional_losses, lstm_cell_13_layer_call_fn, lstm_cell_13_layer_call_and_return_conditional_losses while saving (showing 5 of 5). These functions will not be directly callable after loading.\n"
     ]
    },
    {
     "name": "stdout",
     "output_type": "stream",
     "text": [
      "INFO:tensorflow:Assets written to: model.h1.Eng_Hind\\assets\n"
     ]
    },
    {
     "name": "stderr",
     "output_type": "stream",
     "text": [
      "INFO:tensorflow:Assets written to: model.h1.Eng_Hind\\assets\n"
     ]
    },
    {
     "name": "stdout",
     "output_type": "stream",
     "text": [
      "4/4 [==============================] - 35s 10s/step - loss: 1.9263 - val_loss: 1.9152\n",
      "Epoch 27/30\n",
      "4/4 [==============================] - ETA: 0s - loss: 1.9048\n",
      "Epoch 27: val_loss did not improve from 1.91522\n",
      "4/4 [==============================] - 27s 7s/step - loss: 1.9048 - val_loss: 2.0208\n",
      "Epoch 28/30\n",
      "4/4 [==============================] - ETA: 0s - loss: 1.9262\n",
      "Epoch 28: val_loss did not improve from 1.91522\n",
      "4/4 [==============================] - 27s 7s/step - loss: 1.9262 - val_loss: 1.9739\n",
      "Epoch 29/30\n",
      "4/4 [==============================] - ETA: 0s - loss: 1.8938\n",
      "Epoch 29: val_loss improved from 1.91522 to 1.91234, saving model to model.h1.Eng_Hind\n"
     ]
    },
    {
     "name": "stderr",
     "output_type": "stream",
     "text": [
      "WARNING:absl:Found untraced functions such as _update_step_xla, lstm_cell_12_layer_call_fn, lstm_cell_12_layer_call_and_return_conditional_losses, lstm_cell_13_layer_call_fn, lstm_cell_13_layer_call_and_return_conditional_losses while saving (showing 5 of 5). These functions will not be directly callable after loading.\n"
     ]
    },
    {
     "name": "stdout",
     "output_type": "stream",
     "text": [
      "INFO:tensorflow:Assets written to: model.h1.Eng_Hind\\assets\n"
     ]
    },
    {
     "name": "stderr",
     "output_type": "stream",
     "text": [
      "INFO:tensorflow:Assets written to: model.h1.Eng_Hind\\assets\n"
     ]
    },
    {
     "name": "stdout",
     "output_type": "stream",
     "text": [
      "4/4 [==============================] - 38s 11s/step - loss: 1.8938 - val_loss: 1.9123\n",
      "Epoch 30/30\n",
      "4/4 [==============================] - ETA: 0s - loss: 1.8902\n",
      "Epoch 30: val_loss did not improve from 1.91234\n",
      "4/4 [==============================] - 27s 7s/step - loss: 1.8902 - val_loss: 2.0204\n"
     ]
    }
   ],
   "source": [
    "filename = 'model.h1.Eng_Hind'\n",
    "checkpoint = ModelCheckpoint(filename, monitor='val_loss', verbose=1, save_best_only=True, mode='min')\n",
    "\n",
    "history = model.fit(trainX, trainY.reshape(trainY.shape[0], trainY.shape[1], 1),\n",
    "          epochs=30, batch_size=512,\n",
    "          validation_split = 0.2,\n",
    "          callbacks=[checkpoint], verbose=1)"
   ]
  },
  {
   "cell_type": "code",
   "execution_count": null,
   "metadata": {
    "id": "XKx3bgOdc1PJ",
    "outputId": "0cd0f5b6-8bc8-44d3-f7c0-78a7de7b793d"
   },
   "outputs": [
    {
     "data": {
      "image/png": "[encoded data removed]",
      "text/plain": [
       "<Figure size 640x480 with 1 Axes>"
      ]
     },
     "metadata": {},
     "output_type": "display_data"
    }
   ],
   "source": [
    "plt.plot(history.history['loss'])\n",
    "plt.plot(history.history['val_loss'])\n",
    "plt.legend(['train','validation'])\n",
    "plt.show()"
   ]
  },
  {
   "cell_type": "code",
   "execution_count": null,
   "metadata": {
    "id": "ynZPG7rYBC_I",
    "outputId": "8dbbd7a9-2af5-4f9c-c11c-c2bd946c1a53"
   },
   "outputs": [
    {
     "name": "stdout",
     "output_type": "stream",
     "text": [
      "19/19 [==============================] - 10s 326ms/step\n"
     ]
    }
   ],
   "source": [
    "model = load_model('model.h1')\n",
    "preds = model.predict(testX.reshape((testX.shape[0], testX.shape[1])))"
   ]
  },
  {
   "cell_type": "code",
   "execution_count": null,
   "metadata": {
    "id": "5ZZNf7NYBC_J",
    "outputId": "ea56527b-ce66-4f5b-c79e-2c92e42f73e4"
   },
   "outputs": [
    {
     "name": "stderr",
     "output_type": "stream",
     "text": [
      "WARNING:absl:Found untraced functions such as _update_step_xla, lstm_cell_2_layer_call_fn, lstm_cell_2_layer_call_and_return_conditional_losses, lstm_cell_3_layer_call_fn, lstm_cell_3_layer_call_and_return_conditional_losses while saving (showing 5 of 5). These functions will not be directly callable after loading.\n"
     ]
    },
    {
     "name": "stdout",
     "output_type": "stream",
     "text": [
      "INFO:tensorflow:Assets written to: model.h1\\assets\n"
     ]
    },
    {
     "name": "stderr",
     "output_type": "stream",
     "text": [
      "INFO:tensorflow:Assets written to: model.h1\\assets\n"
     ]
    }
   ],
   "source": [
    "# Save the trained model\n",
    "model.save('model.h1')"
   ]
  },
  {
   "cell_type": "code",
   "execution_count": null,
   "metadata": {
    "id": "rwHGH5fRBC_J",
    "outputId": "91a09f00-d5de-4ecd-98ee-3d9ed1c1c5e7"
   },
   "outputs": [
    {
     "name": "stdout",
     "output_type": "stream",
     "text": [
      "Keras weights file (<HDF5 file \"variables.h5\" (mode r+)>) saving:\n",
      "...layers\\dense\n",
      "......vars\n",
      ".........0\n",
      ".........1\n",
      "...layers\\embedding\n",
      "......vars\n",
      ".........0\n",
      "...layers\\lstm\n",
      "......vars\n",
      "...layers\\lstm\\cell\n",
      "......vars\n",
      ".........0\n",
      ".........1\n",
      ".........2\n",
      "...layers\\lstm_1\n",
      "......vars\n",
      "...layers\\lstm_1\\cell\n",
      "......vars\n",
      ".........0\n",
      ".........1\n",
      ".........2\n",
      "...layers\\repeat_vector\n",
      "......vars\n",
      "...metrics\\mean\n",
      "......vars\n",
      ".........0\n",
      ".........1\n",
      "...optimizer\n",
      "......vars\n",
      ".........0\n",
      "...vars\n",
      "Keras model archive saving:\n",
      "File Name                                             Modified             Size\n",
      "config.json                                    2023-09-02 11:00:46         3716\n",
      "metadata.json                                  2023-09-02 11:00:46           64\n",
      "variables.h5                                   2023-09-02 11:00:46     28020968\n"
     ]
    }
   ],
   "source": [
    "import pickle\n",
    "\n",
    "# Save the trained model in PKL format\n",
    "with open('Trained_model.pkl', 'wb') as file:\n",
    "    pickle.dump(model, file)\n"
   ]
  },
  {
   "cell_type": "code",
   "execution_count": 24,
   "metadata": {
    "id": "gyNGnHkMBC_J"
   },
   "outputs": [],
   "source": [
    "def get_word1(n, tokenizer):\n",
    "    max_index = max(tokenizer.word_index.values())\n",
    "    n = int(n[0] * max_index)  # Convert the floating-point number to an integer\n",
    "    print(n)\n",
    "    for word, index in tokenizer.word_index.items():\n",
    "        if index == n:\n",
    "            return word\n",
    "    return None\n"
   ]
  },
  {
   "cell_type": "code",
   "execution_count": 26,
   "metadata": {
    "id": "bzCw1XluBC_K",
    "outputId": "eb904793-d83f-417c-d254-c06c37ea429d"
   },
   "outputs": [],
   "source": [
    "preds_text = []\n",
    "for i in preds:\n",
    "    temp = []\n",
    "    for j in range(len(i)):\n",
    "        t = get_word1(i[j], eng_tokenizer)\n",
    "        if j > 0: #If it is not the first word\n",
    "            if (t == get_word1(i[j-1], eng_tokenizer)) or (t == None):  #if the next word is same as the previous\n",
    "                temp.append('')\n",
    "            else:\n",
    "                temp.append(t)\n",
    "\n",
    "        else: #if it's not the first word\n",
    "            if(t == None): #if we didn't get a valid code from dictionary\n",
    "                temp.append('')\n",
    "            else:\n",
    "                temp.append(t)\n",
    "\n",
    "    preds_text.append(' '.join(temp))"
   ]
  },
  {
   "cell_type": "code",
   "execution_count": null,
   "metadata": {
    "id": "FUCSldZiTULX"
   },
   "outputs": [],
   "source": [
    "pred_df = pd.DataFrame({'actual' : test[:,0], 'predicted' : preds_text})\n",
    "pd.set_option('display.max_colwidth', 200)"
   ]
  },
  {
   "cell_type": "code",
   "execution_count": null,
   "metadata": {
    "id": "ZxrZUxkpTULY",
    "outputId": "5bac243d-08cb-4387-f3ea-981864a1f678"
   },
   "outputs": [
    {
     "name": "stdout",
     "output_type": "stream",
     "text": [
      "The average BLEU score for the translation is 67.00262030400634 %\n"
     ]
    }
   ],
   "source": [
    "from nltk.translate.bleu_score import sentence_bleu\n",
    "sumn = 0\n",
    "for i in range(len(pred_df)):\n",
    "    reference = pred_df['actual'][0]\n",
    "    candidate = pred_df['predicted'][1]\n",
    "    score = sentence_bleu([pred_df['actual'][i].split()],pred_df['predicted'][i].split())\n",
    "    sumn+=score\n",
    "\n",
    "print(\"The average BLEU score for the translation is {:.2f} %\".format(sumn*100/len(pred_df)))\n",
    "\n",
    "# Here we have calculated bleu score for every translation and taken an average"
   ]
  },
  {
   "cell_type": "markdown",
   "metadata": {
    "id": "DTBsyYcaBC_K"
   },
   "source": [
    "After completing the training of my dataset for English to Hinglish translation,\n",
    "I have achieved an average BLEU score of 67.00262030400634%.\n",
    "\n",
    "The potential for further improvement in accuracy exists through the addition of more data points.\n",
    "I have currently utilized 2979 data points, and with the incorporation of additional data, I can enhance the model's precision."
   ]
  },
  {
   "cell_type": "code",
   "execution_count": null,
   "metadata": {
    "id": "M79qmnlBBC_L"
   },
   "outputs": [],
   "source": []
  }
 ],
 "metadata": {
  "colab": {
   "provenance": []
  },
  "kernelspec": {
   "display_name": "Python 3 (ipykernel)",
   "language": "python",
   "name": "python3"
  },
  "language_info": {
   "codemirror_mode": {
    "name": "ipython",
    "version": 3
   },
   "file_extension": ".py",
   "mimetype": "text/x-python",
   "name": "python",
   "nbconvert_exporter": "python",
   "pygments_lexer": "ipython3",
   "version": "3.9.13"
  }
 },
 "nbformat": 4,
 "nbformat_minor": 1
}
