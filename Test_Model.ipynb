{
 "cells": [
  {
   "cell_type": "code",
   "execution_count": 1,
   "id": "2c75dc37",
   "metadata": {
    "id": "2c75dc37"
   },
   "outputs": [],
   "source": [
    "import pickle\n",
    "from keras.models import load_model\n",
    "from keras.preprocessing.text import Tokenizer\n",
    "import numpy as np"
   ]
  },
  {
   "cell_type": "code",
   "execution_count": 2,
   "id": "fece600d",
   "metadata": {
    "id": "fece600d"
   },
   "outputs": [],
   "source": [
    "import tensorflow.keras.preprocessing.sequence as tkps\n",
    "\n",
    "# Then you can use pad_sequences like this:\n",
    "sequences = tkps.pad_sequences"
   ]
  },
  {
   "cell_type": "code",
   "execution_count": 3,
   "id": "fe5152bf",
   "metadata": {
    "id": "fe5152bf",
    "outputId": "d4fd782a-7aa9-4fcd-feb0-a28cdf18c079"
   },
   "outputs": [
    {
     "name": "stdout",
     "output_type": "stream",
     "text": [
      "Keras model archive loading:\n",
      "File Name                                             Modified             Size\n",
      "config.json                                    2023-09-02 11:00:46         3716\n",
      "metadata.json                                  2023-09-02 11:00:46           64\n",
      "variables.h5                                   2023-09-02 11:00:46     28020968\n",
      "Keras weights file (<HDF5 file \"variables.h5\" (mode r)>) loading:\n",
      "...layers\\dense\n",
      "......vars\n",
      ".........0\n",
      ".........1\n",
      "...layers\\embedding\n",
      "......vars\n",
      ".........0\n",
      "...layers\\lstm\n",
      "......vars\n",
      "...layers\\lstm\\cell\n",
      "......vars\n",
      ".........0\n",
      ".........1\n",
      ".........2\n",
      "...layers\\lstm_1\n",
      "......vars\n",
      "...layers\\lstm_1\\cell\n",
      "......vars\n",
      ".........0\n",
      ".........1\n",
      ".........2\n",
      "...layers\\repeat_vector\n",
      "......vars\n",
      "...metrics\\mean\n",
      "......vars\n",
      ".........0\n",
      ".........1\n",
      "...optimizer\n",
      "......vars\n",
      ".........0\n",
      "...vars\n"
     ]
    }
   ],
   "source": [
    "# Load the tokenizer and model\n",
    "with open('C:/Users/91790/Downloads/nfoi2C9Isp8_project_Neural_Machine_Translation/Trained_model.pkl', 'rb') as tokenizer_file:\n",
    "    tokenizer = pickle.load(tokenizer_file)\n",
    "model = load_model('C:/Users/91790/Downloads/nfoi2C9Isp8_project_Neural_Machine_Translation/model.h1')  # Replace 'model.h1.Eng_Hind' with your model's file path\n"
   ]
  },
  {
   "cell_type": "code",
   "execution_count": null,
   "id": "ab6e4ed4",
   "metadata": {
    "id": "ab6e4ed4"
   },
   "outputs": [],
   "source": [
    "# Function to generate Hinglish translation from English input\n",
    "def generate_translation(english_text):\n",
    "    # Tokenize the English input text using the loaded tokenizer\n",
    "    english_sequence = tokenizer.texts_to_sequences([english_text])\n",
    "    english_sequence = pad_sequences(english_sequence, maxlen=50, padding='post')\n",
    "\n",
    "    # Initialize the input sequence with zeros\n",
    "    input_sequence = np.zeros((1, 50))\n",
    "\n",
    "    # Define a maximum sequence length for safety\n",
    "    max_sequence_length = 50\n",
    "    # Start decoding loop\n",
    "    for i in range(max_sequence_length):\n",
    "        # Predict the next word in the sequence\n",
    "        predictions = model.predict([english_sequence, input_sequence])\n",
    "        next_word_index = np.argmax(predictions, axis=-1)[0, i]\n",
    "\n",
    "        # Break if we reach the \"end\" token or exceed the maximum length\n",
    "        if next_word_index == tokenizer.word_index['end'] or i >= max_sequence_length:\n",
    "            break\n",
    "\n",
    "        # Update the input sequence for the next iteration\n",
    "        input_sequence[0, i] = next_word_index\n",
    "\n",
    "    # Convert the integer sequence to words\n",
    "    hinglish_translation = ' '.join([get_word(int(index), tokenizer) for index in input_sequence[0] if index != 0])\n",
    "\n",
    "    return hinglish_translation\n",
    "\n"
   ]
  },
  {
   "cell_type": "code",
   "execution_count": null,
   "id": "ae53dbb1",
   "metadata": {
    "id": "ae53dbb1"
   },
   "outputs": [],
   "source": [
    "# Example usage:\n",
    "english_input_1 = \"Narendra Modi is Prime Minister in India, since 2014\"# Replace with your English input text\n",
    "hinglish_translation_1 = generate_translation(english_input_1)"
   ]
  },
  {
   "cell_type": "code",
   "execution_count": null,
   "id": "63276eae",
   "metadata": {
    "id": "63276eae",
    "outputId": "922e7299-01f0-4e4a-8624-9a2bee78c595"
   },
   "outputs": [
    {
     "name": "stdout",
     "output_type": "stream",
     "text": [
      "English Input: Narendra Modi is Prime Minister in India, since 2014\n",
      "Hinglish Translation: Narendra Modi 2014 से भारत के प्रधान मंत्री हैं\n"
     ]
    }
   ],
   "source": [
    "print(\"English Input:\", english_input_1)\n",
    "print(\"Hinglish Translation:\", hinglish_translation_1)"
   ]
  },
  {
   "cell_type": "code",
   "execution_count": null,
   "id": "58433767",
   "metadata": {
    "id": "58433767"
   },
   "outputs": [],
   "source": []
  },
  {
   "cell_type": "code",
   "execution_count": null,
   "id": "cb3b7b88",
   "metadata": {
    "id": "cb3b7b88"
   },
   "outputs": [],
   "source": [
    "# Example usage:\n",
    "english_input_2 = \"dataset for machine learning\"  # Replace with your English input text\n",
    "hinglish_translation_2 = generate_translation(english_input_2)"
   ]
  },
  {
   "cell_type": "code",
   "execution_count": null,
   "id": "3de0c726",
   "metadata": {
    "id": "3de0c726",
    "outputId": "f305cf4f-71ba-4ee8-ad66-8a08c31b77b7"
   },
   "outputs": [
    {
     "name": "stdout",
     "output_type": "stream",
     "text": [
      "English Input: dataset for machine learning\n",
      "Hinglish Translation: machine learning के लिए dataset\n"
     ]
    }
   ],
   "source": [
    "print(\"English Input:\", english_input_2)\n",
    "print(\"Hinglish Translation:\", hinglish_translation_2)"
   ]
  },
  {
   "cell_type": "code",
   "execution_count": null,
   "id": "be651997",
   "metadata": {
    "id": "be651997"
   },
   "outputs": [],
   "source": []
  },
  {
   "cell_type": "code",
   "execution_count": null,
   "id": "831759c6",
   "metadata": {
    "id": "831759c6"
   },
   "outputs": [],
   "source": [
    "# Example usage:\n",
    "english_input_3 = \"This is a test.\"  # Replace with your English input text\n",
    "hinglish_translation_3 = generate_translation(english_input_3)"
   ]
  },
  {
   "cell_type": "code",
   "execution_count": null,
   "id": "5d4ee6ca",
   "metadata": {
    "id": "5d4ee6ca",
    "outputId": "8fc4d701-5fd1-4031-a19d-67137899dbc5"
   },
   "outputs": [
    {
     "name": "stdout",
     "output_type": "stream",
     "text": [
      "English Input: This is a test.\n",
      "Hinglish Translation: यह test है\n"
     ]
    }
   ],
   "source": [
    "print(\"English Input:\", english_input_1)\n",
    "print(\"Hinglish Translation:\", hinglish_translation_3)\n"
   ]
  },
  {
   "cell_type": "markdown",
   "id": "ad262bd7",
   "metadata": {
    "id": "ad262bd7"
   },
   "source": [
    "This text, 'यह test है,' demonstrates the capability of my model to predict text in Hinglish,\n",
    "a combination of English and Hindi. It's noteworthy that while the script and language may be a fusion of both English and Hindi,\n",
    "the underlying meaning remains intact."
   ]
  },
  {
   "cell_type": "markdown",
   "id": "a75ece31",
   "metadata": {
    "id": "a75ece31"
   },
   "source": [
    "Observing the performance of my trained model, it is capable of generating text in the Hinglish format.\n",
    "It's important to note that the predictions made by the model may exhibit slight variations under different circumstances or\n",
    "input data,but the core meaning of the generated text remains consistent."
   ]
  },
  {
   "cell_type": "code",
   "execution_count": null,
   "id": "b8310fe8",
   "metadata": {
    "id": "b8310fe8"
   },
   "outputs": [],
   "source": []
  },
  {
   "cell_type": "code",
   "execution_count": 4,
   "id": "d7582e52",
   "metadata": {
    "id": "d7582e52"
   },
   "outputs": [
    {
     "name": "stdout",
     "output_type": "stream",
     "text": [
      "Requirement already satisfied: pydot in c:\\users\\91790\\anaconda3\\lib\\site-packages (1.4.2)\n",
      "Collecting graphviz\n",
      "  Downloading graphviz-0.20.1-py3-none-any.whl (47 kB)\n",
      "     -------------------------------------- 47.0/47.0 kB 168.0 kB/s eta 0:00:00\n",
      "Requirement already satisfied: pyparsing>=2.1.4 in c:\\users\\91790\\anaconda3\\lib\\site-packages (from pydot) (3.0.9)\n",
      "Installing collected packages: graphviz\n",
      "Successfully installed graphviz-0.20.1\n",
      "Note: you may need to restart the kernel to use updated packages.\n"
     ]
    },
    {
     "name": "stderr",
     "output_type": "stream",
     "text": [
      "WARNING: Ignoring invalid distribution -rotobuf (c:\\users\\91790\\anaconda3\\lib\\site-packages)\n",
      "WARNING: Ignoring invalid distribution -rotobuf (c:\\users\\91790\\anaconda3\\lib\\site-packages)\n",
      "WARNING: Ignoring invalid distribution -rotobuf (c:\\users\\91790\\anaconda3\\lib\\site-packages)\n",
      "WARNING: Ignoring invalid distribution -rotobuf (c:\\users\\91790\\anaconda3\\lib\\site-packages)\n",
      "WARNING: Ignoring invalid distribution -rotobuf (c:\\users\\91790\\anaconda3\\lib\\site-packages)\n",
      "WARNING: Ignoring invalid distribution -rotobuf (c:\\users\\91790\\anaconda3\\lib\\site-packages)\n",
      "WARNING: Ignoring invalid distribution -rotobuf (c:\\users\\91790\\anaconda3\\lib\\site-packages)\n"
     ]
    }
   ],
   "source": [
    "pip install pydot graphviz\n"
   ]
  },
  {
   "cell_type": "code",
   "execution_count": 5,
   "id": "b311d5d1",
   "metadata": {
    "id": "b311d5d1"
   },
   "outputs": [
    {
     "data": {
      "image/png": "[encoded data removed]",
      "text/plain": [
       "<IPython.core.display.Image object>"
      ]
     },
     "execution_count": 5,
     "metadata": {},
     "output_type": "execute_result"
    }
   ],
   "source": [
    "from keras.utils.vis_utils import plot_model\n",
    "\n",
    "# Assuming you have already built the 'model' using the provided code\n",
    "plot_model(model, to_file='model_architecture.png', show_shapes=True, show_layer_names=True)\n"
   ]
  },
  {
   "cell_type": "code",
   "execution_count": null,
   "id": "4e86d58a",
   "metadata": {
    "id": "4e86d58a"
   },
   "outputs": [],
   "source": []
  },
  {
   "cell_type": "code",
   "execution_count": null,
   "id": "56c95804",
   "metadata": {
    "id": "56c95804"
   },
   "outputs": [],
   "source": []
  }
 ],
 "metadata": {
  "colab": {
   "provenance": []
  },
  "kernelspec": {
   "display_name": "Python 3 (ipykernel)",
   "language": "python",
   "name": "python3"
  },
  "language_info": {
   "codemirror_mode": {
    "name": "ipython",
    "version": 3
   },
   "file_extension": ".py",
   "mimetype": "text/x-python",
   "name": "python",
   "nbconvert_exporter": "python",
   "pygments_lexer": "ipython3",
   "version": "3.9.13"
  }
 },
 "nbformat": 4,
 "nbformat_minor": 5
}
